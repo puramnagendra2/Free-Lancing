{
 "cells": [
  {
   "cell_type": "markdown",
   "metadata": {},
   "source": [
    "### Importing Libraries"
   ]
  },
  {
   "cell_type": "code",
   "execution_count": 23,
   "metadata": {},
   "outputs": [],
   "source": [
    "import pandas as pd\n",
    "import numpy as np\n",
    "import os\n",
    "import tensorflow as tf\n",
    "from ucimlrepo import fetch_ucirepo"
   ]
  },
  {
   "cell_type": "markdown",
   "metadata": {},
   "source": [
    "### Loading Dataset"
   ]
  },
  {
   "cell_type": "code",
   "execution_count": 24,
   "metadata": {},
   "outputs": [],
   "source": [
    "# fetch dataset \n",
    "air_quality = fetch_ucirepo(id=360) \n",
    "\n",
    "# data (as pandas dataframes) \n",
    "dataset = air_quality.data.features"
   ]
  },
  {
   "cell_type": "code",
   "execution_count": 25,
   "metadata": {},
   "outputs": [
    {
     "data": {
      "text/html": [
       "<div>\n",
       "<style scoped>\n",
       "    .dataframe tbody tr th:only-of-type {\n",
       "        vertical-align: middle;\n",
       "    }\n",
       "\n",
       "    .dataframe tbody tr th {\n",
       "        vertical-align: top;\n",
       "    }\n",
       "\n",
       "    .dataframe thead th {\n",
       "        text-align: right;\n",
       "    }\n",
       "</style>\n",
       "<table border=\"1\" class=\"dataframe\">\n",
       "  <thead>\n",
       "    <tr style=\"text-align: right;\">\n",
       "      <th></th>\n",
       "      <th>CO(GT)</th>\n",
       "      <th>PT08.S1(CO)</th>\n",
       "      <th>NMHC(GT)</th>\n",
       "      <th>C6H6(GT)</th>\n",
       "      <th>PT08.S2(NMHC)</th>\n",
       "      <th>NOx(GT)</th>\n",
       "      <th>PT08.S3(NOx)</th>\n",
       "      <th>NO2(GT)</th>\n",
       "      <th>PT08.S4(NO2)</th>\n",
       "      <th>PT08.S5(O3)</th>\n",
       "      <th>T</th>\n",
       "      <th>RH</th>\n",
       "      <th>AH</th>\n",
       "    </tr>\n",
       "  </thead>\n",
       "  <tbody>\n",
       "    <tr>\n",
       "      <th>0</th>\n",
       "      <td>2.6</td>\n",
       "      <td>1360</td>\n",
       "      <td>150</td>\n",
       "      <td>11.9</td>\n",
       "      <td>1046</td>\n",
       "      <td>166</td>\n",
       "      <td>1056</td>\n",
       "      <td>113</td>\n",
       "      <td>1692</td>\n",
       "      <td>1268</td>\n",
       "      <td>13.6</td>\n",
       "      <td>48.9</td>\n",
       "      <td>0.7578</td>\n",
       "    </tr>\n",
       "    <tr>\n",
       "      <th>1</th>\n",
       "      <td>2.0</td>\n",
       "      <td>1292</td>\n",
       "      <td>112</td>\n",
       "      <td>9.4</td>\n",
       "      <td>955</td>\n",
       "      <td>103</td>\n",
       "      <td>1174</td>\n",
       "      <td>92</td>\n",
       "      <td>1559</td>\n",
       "      <td>972</td>\n",
       "      <td>13.3</td>\n",
       "      <td>47.7</td>\n",
       "      <td>0.7255</td>\n",
       "    </tr>\n",
       "    <tr>\n",
       "      <th>2</th>\n",
       "      <td>2.2</td>\n",
       "      <td>1402</td>\n",
       "      <td>88</td>\n",
       "      <td>9.0</td>\n",
       "      <td>939</td>\n",
       "      <td>131</td>\n",
       "      <td>1140</td>\n",
       "      <td>114</td>\n",
       "      <td>1555</td>\n",
       "      <td>1074</td>\n",
       "      <td>11.9</td>\n",
       "      <td>54.0</td>\n",
       "      <td>0.7502</td>\n",
       "    </tr>\n",
       "    <tr>\n",
       "      <th>3</th>\n",
       "      <td>2.2</td>\n",
       "      <td>1376</td>\n",
       "      <td>80</td>\n",
       "      <td>9.2</td>\n",
       "      <td>948</td>\n",
       "      <td>172</td>\n",
       "      <td>1092</td>\n",
       "      <td>122</td>\n",
       "      <td>1584</td>\n",
       "      <td>1203</td>\n",
       "      <td>11.0</td>\n",
       "      <td>60.0</td>\n",
       "      <td>0.7867</td>\n",
       "    </tr>\n",
       "    <tr>\n",
       "      <th>4</th>\n",
       "      <td>1.6</td>\n",
       "      <td>1272</td>\n",
       "      <td>51</td>\n",
       "      <td>6.5</td>\n",
       "      <td>836</td>\n",
       "      <td>131</td>\n",
       "      <td>1205</td>\n",
       "      <td>116</td>\n",
       "      <td>1490</td>\n",
       "      <td>1110</td>\n",
       "      <td>11.2</td>\n",
       "      <td>59.6</td>\n",
       "      <td>0.7888</td>\n",
       "    </tr>\n",
       "  </tbody>\n",
       "</table>\n",
       "</div>"
      ],
      "text/plain": [
       "   CO(GT)  PT08.S1(CO)  NMHC(GT)  C6H6(GT)  PT08.S2(NMHC)  NOx(GT)  \\\n",
       "0     2.6         1360       150      11.9           1046      166   \n",
       "1     2.0         1292       112       9.4            955      103   \n",
       "2     2.2         1402        88       9.0            939      131   \n",
       "3     2.2         1376        80       9.2            948      172   \n",
       "4     1.6         1272        51       6.5            836      131   \n",
       "\n",
       "   PT08.S3(NOx)  NO2(GT)  PT08.S4(NO2)  PT08.S5(O3)     T    RH      AH  \n",
       "0          1056      113          1692         1268  13.6  48.9  0.7578  \n",
       "1          1174       92          1559          972  13.3  47.7  0.7255  \n",
       "2          1140      114          1555         1074  11.9  54.0  0.7502  \n",
       "3          1092      122          1584         1203  11.0  60.0  0.7867  \n",
       "4          1205      116          1490         1110  11.2  59.6  0.7888  "
      ]
     },
     "execution_count": 25,
     "metadata": {},
     "output_type": "execute_result"
    }
   ],
   "source": [
    "dataset.drop(columns=['Date', 'Time'], inplace=True)\n",
    "dataset.head()"
   ]
  },
  {
   "cell_type": "markdown",
   "metadata": {},
   "source": [
    "### Data Preprocessing"
   ]
  },
  {
   "cell_type": "code",
   "execution_count": 26,
   "metadata": {},
   "outputs": [
    {
     "name": "stdout",
     "output_type": "stream",
     "text": [
      "Missing values in each column:\n",
      "CO(GT)           0\n",
      "PT08.S1(CO)      0\n",
      "NMHC(GT)         0\n",
      "C6H6(GT)         0\n",
      "PT08.S2(NMHC)    0\n",
      "NOx(GT)          0\n",
      "PT08.S3(NOx)     0\n",
      "NO2(GT)          0\n",
      "PT08.S4(NO2)     0\n",
      "PT08.S5(O3)      0\n",
      "T                0\n",
      "RH               0\n",
      "AH               0\n",
      "dtype: int64\n"
     ]
    }
   ],
   "source": [
    "# Missing Values\n",
    "missing_values = dataset.isnull().sum()\n",
    "print(\"Missing values in each column:\")\n",
    "print(missing_values)"
   ]
  },
  {
   "cell_type": "code",
   "execution_count": 27,
   "metadata": {},
   "outputs": [
    {
     "name": "stdout",
     "output_type": "stream",
     "text": [
      "Number of duplicate rows: 31\n",
      "Duplicates have been dropped.\n"
     ]
    }
   ],
   "source": [
    "# Check for duplicates\n",
    "duplicates = dataset.duplicated().sum()\n",
    "print(f\"Number of duplicate rows: {duplicates}\")\n",
    "\n",
    "# Drop duplicates if any\n",
    "if duplicates > 0:\n",
    "    dataset.drop_duplicates(inplace=True)\n",
    "    print(\"Duplicates have been dropped.\")\n",
    "else:\n",
    "    print(\"No duplicates found.\")"
   ]
  },
  {
   "cell_type": "code",
   "execution_count": 28,
   "metadata": {},
   "outputs": [],
   "source": [
    "# Selected Features Dataset\n",
    "\n",
    "X = dataset.drop('CO(GT)', axis=1)\n",
    "y = dataset['CO(GT)']"
   ]
  },
  {
   "cell_type": "markdown",
   "metadata": {},
   "source": [
    "### Feature Selection"
   ]
  },
  {
   "cell_type": "code",
   "execution_count": 29,
   "metadata": {},
   "outputs": [
    {
     "name": "stdout",
     "output_type": "stream",
     "text": [
      "Selected features:\n",
      "['NMHC(GT)', 'C6H6(GT)', 'PT08.S2(NMHC)', 'NOx(GT)', 'PT08.S3(NOx)', 'NO2(GT)', 'PT08.S5(O3)', 'T', 'RH', 'AH']\n"
     ]
    }
   ],
   "source": [
    "from sklearn.feature_selection import RFE\n",
    "from sklearn.linear_model import LinearRegression\n",
    "selector = RFE(estimator=LinearRegression(), n_features_to_select=10)\n",
    "X_selected = selector.fit_transform(X, y)\n",
    "X_selected = pd.DataFrame(X_selected, columns=X.columns[selector.support_])\n",
    "print(\"Selected features:\")\n",
    "print(X_selected.columns.tolist())"
   ]
  },
  {
   "cell_type": "markdown",
   "metadata": {},
   "source": [
    "### Train test Split"
   ]
  },
  {
   "cell_type": "code",
   "execution_count": 30,
   "metadata": {},
   "outputs": [],
   "source": [
    "from sklearn.model_selection import train_test_split\n",
    "\n",
    "X_train, X_test, y_train, y_test = train_test_split(X_selected, y, test_size=0.2, random_state=42)"
   ]
  },
  {
   "cell_type": "markdown",
   "metadata": {},
   "source": [
    "### Feature Scaling"
   ]
  },
  {
   "cell_type": "code",
   "execution_count": 31,
   "metadata": {},
   "outputs": [],
   "source": [
    "from sklearn.preprocessing import StandardScaler\n",
    "# Standardize the features\n",
    "scaler = StandardScaler()\n",
    "X_train_scaled = scaler.fit_transform(X_train)\n",
    "X_test_scaled = scaler.transform(X_test)\n",
    "# y_train_scaled = scaler.fit_transform(y_train.values.reshape(-1, 1))\n",
    "# y_test_scaled = scaler.transform(y_test.values.reshape(-1, 1))"
   ]
  },
  {
   "cell_type": "code",
   "execution_count": 32,
   "metadata": {},
   "outputs": [
    {
     "data": {
      "text/html": [
       "<div>\n",
       "<style scoped>\n",
       "    .dataframe tbody tr th:only-of-type {\n",
       "        vertical-align: middle;\n",
       "    }\n",
       "\n",
       "    .dataframe tbody tr th {\n",
       "        vertical-align: top;\n",
       "    }\n",
       "\n",
       "    .dataframe thead th {\n",
       "        text-align: right;\n",
       "    }\n",
       "</style>\n",
       "<table border=\"1\" class=\"dataframe\">\n",
       "  <thead>\n",
       "    <tr style=\"text-align: right;\">\n",
       "      <th></th>\n",
       "      <th>NMHC(GT)</th>\n",
       "      <th>C6H6(GT)</th>\n",
       "      <th>PT08.S2(NMHC)</th>\n",
       "      <th>NOx(GT)</th>\n",
       "      <th>PT08.S3(NOx)</th>\n",
       "      <th>NO2(GT)</th>\n",
       "      <th>PT08.S5(O3)</th>\n",
       "      <th>T</th>\n",
       "      <th>RH</th>\n",
       "      <th>AH</th>\n",
       "    </tr>\n",
       "  </thead>\n",
       "  <tbody>\n",
       "    <tr>\n",
       "      <th>0</th>\n",
       "      <td>-0.291045</td>\n",
       "      <td>0.073091</td>\n",
       "      <td>-0.364057</td>\n",
       "      <td>-1.437450</td>\n",
       "      <td>0.224540</td>\n",
       "      <td>-2.045024</td>\n",
       "      <td>-0.357305</td>\n",
       "      <td>0.251848</td>\n",
       "      <td>0.352233</td>\n",
       "      <td>0.207006</td>\n",
       "    </tr>\n",
       "    <tr>\n",
       "      <th>1</th>\n",
       "      <td>-0.291045</td>\n",
       "      <td>0.132317</td>\n",
       "      <td>-0.039387</td>\n",
       "      <td>0.304510</td>\n",
       "      <td>-0.289391</td>\n",
       "      <td>0.607760</td>\n",
       "      <td>0.012845</td>\n",
       "      <td>-0.147263</td>\n",
       "      <td>0.810275</td>\n",
       "      <td>0.187588</td>\n",
       "    </tr>\n",
       "    <tr>\n",
       "      <th>2</th>\n",
       "      <td>-0.291045</td>\n",
       "      <td>-4.990719</td>\n",
       "      <td>-3.238865</td>\n",
       "      <td>-0.442044</td>\n",
       "      <td>-3.122276</td>\n",
       "      <td>0.070887</td>\n",
       "      <td>-2.593632</td>\n",
       "      <td>-4.964933</td>\n",
       "      <td>-4.773853</td>\n",
       "      <td>-5.073025</td>\n",
       "    </tr>\n",
       "    <tr>\n",
       "      <th>3</th>\n",
       "      <td>-0.291045</td>\n",
       "      <td>0.001527</td>\n",
       "      <td>-0.854014</td>\n",
       "      <td>-1.437450</td>\n",
       "      <td>1.305674</td>\n",
       "      <td>-2.045024</td>\n",
       "      <td>-0.383745</td>\n",
       "      <td>0.091259</td>\n",
       "      <td>0.282531</td>\n",
       "      <td>0.192839</td>\n",
       "    </tr>\n",
       "    <tr>\n",
       "      <th>4</th>\n",
       "      <td>-0.291045</td>\n",
       "      <td>0.021269</td>\n",
       "      <td>-0.706437</td>\n",
       "      <td>-1.437450</td>\n",
       "      <td>1.186593</td>\n",
       "      <td>-2.045024</td>\n",
       "      <td>-0.650341</td>\n",
       "      <td>0.077090</td>\n",
       "      <td>0.481679</td>\n",
       "      <td>0.195922</td>\n",
       "    </tr>\n",
       "  </tbody>\n",
       "</table>\n",
       "</div>"
      ],
      "text/plain": [
       "   NMHC(GT)  C6H6(GT)  PT08.S2(NMHC)   NOx(GT)  PT08.S3(NOx)   NO2(GT)  \\\n",
       "0 -0.291045  0.073091      -0.364057 -1.437450      0.224540 -2.045024   \n",
       "1 -0.291045  0.132317      -0.039387  0.304510     -0.289391  0.607760   \n",
       "2 -0.291045 -4.990719      -3.238865 -0.442044     -3.122276  0.070887   \n",
       "3 -0.291045  0.001527      -0.854014 -1.437450      1.305674 -2.045024   \n",
       "4 -0.291045  0.021269      -0.706437 -1.437450      1.186593 -2.045024   \n",
       "\n",
       "   PT08.S5(O3)         T        RH        AH  \n",
       "0    -0.357305  0.251848  0.352233  0.207006  \n",
       "1     0.012845 -0.147263  0.810275  0.187588  \n",
       "2    -2.593632 -4.964933 -4.773853 -5.073025  \n",
       "3    -0.383745  0.091259  0.282531  0.192839  \n",
       "4    -0.650341  0.077090  0.481679  0.195922  "
      ]
     },
     "execution_count": 32,
     "metadata": {},
     "output_type": "execute_result"
    }
   ],
   "source": [
    "X_train_scaled = pd.DataFrame(X_train_scaled, columns=X_train.columns)\n",
    "X_test_scaled = pd.DataFrame(X_test_scaled, columns=X_test.columns)\n",
    "# y_train_scaled = pd.DataFrame(y_train_scaled, columns=['target'])\n",
    "# y_test_scaled = pd.DataFrame(y_test_scaled, columns=['target'])\n",
    "X_train_scaled.head()"
   ]
  },
  {
   "cell_type": "markdown",
   "metadata": {},
   "source": [
    "### Artificial Neural Network Model"
   ]
  },
  {
   "cell_type": "code",
   "execution_count": 33,
   "metadata": {},
   "outputs": [
    {
     "name": "stderr",
     "output_type": "stream",
     "text": [
      "e:\\Free Lancing\\ML and DL\\Project1\\.venv\\Lib\\site-packages\\keras\\src\\layers\\core\\dense.py:87: UserWarning: Do not pass an `input_shape`/`input_dim` argument to a layer. When using Sequential models, prefer using an `Input(shape)` object as the first layer in the model instead.\n",
      "  super().__init__(activity_regularizer=activity_regularizer, **kwargs)\n",
      "e:\\Free Lancing\\ML and DL\\Project1\\.venv\\Lib\\site-packages\\keras\\src\\layers\\activations\\leaky_relu.py:41: UserWarning: Argument `alpha` is deprecated. Use `negative_slope` instead.\n",
      "  warnings.warn(\n"
     ]
    },
    {
     "name": "stdout",
     "output_type": "stream",
     "text": [
      "Epoch 1/100\n",
      "\u001b[1m467/467\u001b[0m \u001b[32m━━━━━━━━━━━━━━━━━━━━\u001b[0m\u001b[37m\u001b[0m \u001b[1m5s\u001b[0m 5ms/step - loss: 4363.2588 - mae: 34.3851 - val_loss: 3024.9280 - val_mae: 30.0961 - learning_rate: 0.0010\n",
      "Epoch 2/100\n",
      "\u001b[1m467/467\u001b[0m \u001b[32m━━━━━━━━━━━━━━━━━━━━\u001b[0m\u001b[37m\u001b[0m \u001b[1m1s\u001b[0m 3ms/step - loss: 2981.5405 - mae: 29.4912 - val_loss: 2969.7341 - val_mae: 28.9434 - learning_rate: 0.0010\n",
      "Epoch 3/100\n",
      "\u001b[1m467/467\u001b[0m \u001b[32m━━━━━━━━━━━━━━━━━━━━\u001b[0m\u001b[37m\u001b[0m \u001b[1m2s\u001b[0m 3ms/step - loss: 2889.9536 - mae: 28.8563 - val_loss: 2905.2415 - val_mae: 28.5768 - learning_rate: 0.0010\n",
      "Epoch 4/100\n",
      "\u001b[1m467/467\u001b[0m \u001b[32m━━━━━━━━━━━━━━━━━━━━\u001b[0m\u001b[37m\u001b[0m \u001b[1m1s\u001b[0m 3ms/step - loss: 2875.2598 - mae: 28.2778 - val_loss: 2940.1294 - val_mae: 29.0418 - learning_rate: 0.0010\n",
      "Epoch 5/100\n",
      "\u001b[1m467/467\u001b[0m \u001b[32m━━━━━━━━━━━━━━━━━━━━\u001b[0m\u001b[37m\u001b[0m \u001b[1m1s\u001b[0m 3ms/step - loss: 2761.3279 - mae: 27.6446 - val_loss: 2843.3738 - val_mae: 28.5685 - learning_rate: 0.0010\n",
      "Epoch 6/100\n",
      "\u001b[1m467/467\u001b[0m \u001b[32m━━━━━━━━━━━━━━━━━━━━\u001b[0m\u001b[37m\u001b[0m \u001b[1m1s\u001b[0m 3ms/step - loss: 2865.7517 - mae: 28.5184 - val_loss: 2854.6963 - val_mae: 27.1004 - learning_rate: 0.0010\n",
      "Epoch 7/100\n",
      "\u001b[1m467/467\u001b[0m \u001b[32m━━━━━━━━━━━━━━━━━━━━\u001b[0m\u001b[37m\u001b[0m \u001b[1m1s\u001b[0m 3ms/step - loss: 2724.8882 - mae: 27.6716 - val_loss: 2804.0459 - val_mae: 25.4072 - learning_rate: 0.0010\n",
      "Epoch 8/100\n",
      "\u001b[1m467/467\u001b[0m \u001b[32m━━━━━━━━━━━━━━━━━━━━\u001b[0m\u001b[37m\u001b[0m \u001b[1m2s\u001b[0m 3ms/step - loss: 2718.8159 - mae: 26.9502 - val_loss: 2784.8999 - val_mae: 29.8779 - learning_rate: 0.0010\n",
      "Epoch 9/100\n",
      "\u001b[1m467/467\u001b[0m \u001b[32m━━━━━━━━━━━━━━━━━━━━\u001b[0m\u001b[37m\u001b[0m \u001b[1m2s\u001b[0m 3ms/step - loss: 2746.9280 - mae: 28.3037 - val_loss: 2814.6248 - val_mae: 27.1800 - learning_rate: 0.0010\n",
      "Epoch 10/100\n",
      "\u001b[1m467/467\u001b[0m \u001b[32m━━━━━━━━━━━━━━━━━━━━\u001b[0m\u001b[37m\u001b[0m \u001b[1m2s\u001b[0m 3ms/step - loss: 2666.5305 - mae: 27.1337 - val_loss: 2766.2063 - val_mae: 26.7147 - learning_rate: 0.0010\n",
      "Epoch 11/100\n",
      "\u001b[1m467/467\u001b[0m \u001b[32m━━━━━━━━━━━━━━━━━━━━\u001b[0m\u001b[37m\u001b[0m \u001b[1m1s\u001b[0m 3ms/step - loss: 2607.9937 - mae: 25.7616 - val_loss: 2807.6558 - val_mae: 27.8728 - learning_rate: 0.0010\n",
      "Epoch 12/100\n",
      "\u001b[1m467/467\u001b[0m \u001b[32m━━━━━━━━━━━━━━━━━━━━\u001b[0m\u001b[37m\u001b[0m \u001b[1m1s\u001b[0m 3ms/step - loss: 2704.3799 - mae: 27.3570 - val_loss: 2757.0320 - val_mae: 26.1660 - learning_rate: 0.0010\n",
      "Epoch 13/100\n",
      "\u001b[1m467/467\u001b[0m \u001b[32m━━━━━━━━━━━━━━━━━━━━\u001b[0m\u001b[37m\u001b[0m \u001b[1m1s\u001b[0m 3ms/step - loss: 2623.3052 - mae: 26.0881 - val_loss: 2741.2280 - val_mae: 27.5448 - learning_rate: 5.0000e-04\n",
      "Epoch 14/100\n",
      "\u001b[1m467/467\u001b[0m \u001b[32m━━━━━━━━━━━━━━━━━━━━\u001b[0m\u001b[37m\u001b[0m \u001b[1m2s\u001b[0m 3ms/step - loss: 2570.7351 - mae: 26.1803 - val_loss: 2719.5029 - val_mae: 26.0762 - learning_rate: 5.0000e-04\n",
      "Epoch 15/100\n",
      "\u001b[1m467/467\u001b[0m \u001b[32m━━━━━━━━━━━━━━━━━━━━\u001b[0m\u001b[37m\u001b[0m \u001b[1m1s\u001b[0m 3ms/step - loss: 2595.4255 - mae: 26.0722 - val_loss: 2712.2549 - val_mae: 26.3731 - learning_rate: 5.0000e-04\n",
      "Epoch 16/100\n",
      "\u001b[1m467/467\u001b[0m \u001b[32m━━━━━━━━━━━━━━━━━━━━\u001b[0m\u001b[37m\u001b[0m \u001b[1m1s\u001b[0m 3ms/step - loss: 2677.0029 - mae: 26.7233 - val_loss: 2718.8093 - val_mae: 25.5061 - learning_rate: 5.0000e-04\n",
      "Epoch 17/100\n",
      "\u001b[1m467/467\u001b[0m \u001b[32m━━━━━━━━━━━━━━━━━━━━\u001b[0m\u001b[37m\u001b[0m \u001b[1m1s\u001b[0m 3ms/step - loss: 2571.6006 - mae: 25.6473 - val_loss: 2710.0396 - val_mae: 27.1874 - learning_rate: 5.0000e-04\n",
      "Epoch 18/100\n",
      "\u001b[1m467/467\u001b[0m \u001b[32m━━━━━━━━━━━━━━━━━━━━\u001b[0m\u001b[37m\u001b[0m \u001b[1m1s\u001b[0m 3ms/step - loss: 2580.5337 - mae: 25.7856 - val_loss: 2706.0959 - val_mae: 26.5686 - learning_rate: 2.5000e-04\n",
      "Epoch 19/100\n",
      "\u001b[1m467/467\u001b[0m \u001b[32m━━━━━━━━━━━━━━━━━━━━\u001b[0m\u001b[37m\u001b[0m \u001b[1m1s\u001b[0m 3ms/step - loss: 2488.0481 - mae: 25.6901 - val_loss: 2704.6665 - val_mae: 26.3323 - learning_rate: 2.5000e-04\n",
      "Epoch 20/100\n",
      "\u001b[1m467/467\u001b[0m \u001b[32m━━━━━━━━━━━━━━━━━━━━\u001b[0m\u001b[37m\u001b[0m \u001b[1m2s\u001b[0m 3ms/step - loss: 2566.5063 - mae: 26.0415 - val_loss: 2684.9175 - val_mae: 25.9650 - learning_rate: 2.5000e-04\n",
      "Epoch 21/100\n",
      "\u001b[1m467/467\u001b[0m \u001b[32m━━━━━━━━━━━━━━━━━━━━\u001b[0m\u001b[37m\u001b[0m \u001b[1m1s\u001b[0m 3ms/step - loss: 2583.7195 - mae: 25.8496 - val_loss: 2687.3884 - val_mae: 25.7299 - learning_rate: 2.5000e-04\n",
      "Epoch 22/100\n",
      "\u001b[1m467/467\u001b[0m \u001b[32m━━━━━━━━━━━━━━━━━━━━\u001b[0m\u001b[37m\u001b[0m \u001b[1m1s\u001b[0m 3ms/step - loss: 2523.7585 - mae: 25.2329 - val_loss: 2690.0417 - val_mae: 27.1410 - learning_rate: 2.5000e-04\n",
      "Epoch 23/100\n",
      "\u001b[1m467/467\u001b[0m \u001b[32m━━━━━━━━━━━━━━━━━━━━\u001b[0m\u001b[37m\u001b[0m \u001b[1m1s\u001b[0m 3ms/step - loss: 2485.3872 - mae: 25.5774 - val_loss: 2687.4438 - val_mae: 26.1576 - learning_rate: 1.2500e-04\n",
      "Epoch 24/100\n",
      "\u001b[1m467/467\u001b[0m \u001b[32m━━━━━━━━━━━━━━━━━━━━\u001b[0m\u001b[37m\u001b[0m \u001b[1m2s\u001b[0m 3ms/step - loss: 2521.7939 - mae: 25.8217 - val_loss: 2684.1150 - val_mae: 26.1140 - learning_rate: 1.2500e-04\n",
      "Epoch 25/100\n",
      "\u001b[1m467/467\u001b[0m \u001b[32m━━━━━━━━━━━━━━━━━━━━\u001b[0m\u001b[37m\u001b[0m \u001b[1m1s\u001b[0m 3ms/step - loss: 2576.9722 - mae: 26.0775 - val_loss: 2682.7722 - val_mae: 26.1614 - learning_rate: 1.2500e-04\n",
      "Epoch 26/100\n",
      "\u001b[1m467/467\u001b[0m \u001b[32m━━━━━━━━━━━━━━━━━━━━\u001b[0m\u001b[37m\u001b[0m \u001b[1m1s\u001b[0m 3ms/step - loss: 2586.4485 - mae: 25.9884 - val_loss: 2708.7668 - val_mae: 26.3432 - learning_rate: 1.2500e-04\n",
      "Epoch 27/100\n",
      "\u001b[1m467/467\u001b[0m \u001b[32m━━━━━━━━━━━━━━━━━━━━\u001b[0m\u001b[37m\u001b[0m \u001b[1m1s\u001b[0m 3ms/step - loss: 2536.5410 - mae: 25.7380 - val_loss: 2693.7378 - val_mae: 25.7929 - learning_rate: 1.2500e-04\n",
      "Epoch 28/100\n",
      "\u001b[1m467/467\u001b[0m \u001b[32m━━━━━━━━━━━━━━━━━━━━\u001b[0m\u001b[37m\u001b[0m \u001b[1m1s\u001b[0m 3ms/step - loss: 2451.9915 - mae: 24.9944 - val_loss: 2670.9827 - val_mae: 26.1667 - learning_rate: 1.0000e-04\n",
      "Epoch 29/100\n",
      "\u001b[1m467/467\u001b[0m \u001b[32m━━━━━━━━━━━━━━━━━━━━\u001b[0m\u001b[37m\u001b[0m \u001b[1m2s\u001b[0m 3ms/step - loss: 2405.8240 - mae: 24.4781 - val_loss: 2679.3618 - val_mae: 25.8331 - learning_rate: 1.0000e-04\n",
      "Epoch 30/100\n",
      "\u001b[1m467/467\u001b[0m \u001b[32m━━━━━━━━━━━━━━━━━━━━\u001b[0m\u001b[37m\u001b[0m \u001b[1m1s\u001b[0m 3ms/step - loss: 2498.0803 - mae: 25.2746 - val_loss: 2680.4583 - val_mae: 25.4071 - learning_rate: 1.0000e-04\n",
      "Epoch 31/100\n",
      "\u001b[1m467/467\u001b[0m \u001b[32m━━━━━━━━━━━━━━━━━━━━\u001b[0m\u001b[37m\u001b[0m \u001b[1m1s\u001b[0m 3ms/step - loss: 2540.9795 - mae: 25.1886 - val_loss: 2675.7087 - val_mae: 25.9151 - learning_rate: 1.0000e-04\n",
      "Epoch 32/100\n",
      "\u001b[1m467/467\u001b[0m \u001b[32m━━━━━━━━━━━━━━━━━━━━\u001b[0m\u001b[37m\u001b[0m \u001b[1m1s\u001b[0m 3ms/step - loss: 2579.7358 - mae: 26.1313 - val_loss: 2683.6406 - val_mae: 25.6745 - learning_rate: 1.0000e-04\n",
      "Epoch 33/100\n",
      "\u001b[1m467/467\u001b[0m \u001b[32m━━━━━━━━━━━━━━━━━━━━\u001b[0m\u001b[37m\u001b[0m \u001b[1m1s\u001b[0m 3ms/step - loss: 2571.3154 - mae: 25.8404 - val_loss: 2673.5396 - val_mae: 26.2482 - learning_rate: 1.0000e-04\n",
      "Epoch 34/100\n",
      "\u001b[1m467/467\u001b[0m \u001b[32m━━━━━━━━━━━━━━━━━━━━\u001b[0m\u001b[37m\u001b[0m \u001b[1m2s\u001b[0m 3ms/step - loss: 2690.4714 - mae: 26.6570 - val_loss: 2676.0400 - val_mae: 25.7313 - learning_rate: 1.0000e-04\n",
      "Epoch 35/100\n",
      "\u001b[1m467/467\u001b[0m \u001b[32m━━━━━━━━━━━━━━━━━━━━\u001b[0m\u001b[37m\u001b[0m \u001b[1m1s\u001b[0m 3ms/step - loss: 2530.6191 - mae: 25.4991 - val_loss: 2674.8494 - val_mae: 25.3859 - learning_rate: 1.0000e-04\n",
      "Epoch 36/100\n",
      "\u001b[1m467/467\u001b[0m \u001b[32m━━━━━━━━━━━━━━━━━━━━\u001b[0m\u001b[37m\u001b[0m \u001b[1m1s\u001b[0m 3ms/step - loss: 2577.4922 - mae: 25.7122 - val_loss: 2665.2148 - val_mae: 26.0314 - learning_rate: 1.0000e-04\n",
      "Epoch 37/100\n",
      "\u001b[1m467/467\u001b[0m \u001b[32m━━━━━━━━━━━━━━━━━━━━\u001b[0m\u001b[37m\u001b[0m \u001b[1m1s\u001b[0m 3ms/step - loss: 2395.9451 - mae: 24.6290 - val_loss: 2662.9800 - val_mae: 26.0715 - learning_rate: 1.0000e-04\n",
      "Epoch 38/100\n",
      "\u001b[1m467/467\u001b[0m \u001b[32m━━━━━━━━━━━━━━━━━━━━\u001b[0m\u001b[37m\u001b[0m \u001b[1m1s\u001b[0m 3ms/step - loss: 2529.4348 - mae: 25.8789 - val_loss: 2666.2566 - val_mae: 25.9106 - learning_rate: 1.0000e-04\n",
      "Epoch 39/100\n",
      "\u001b[1m467/467\u001b[0m \u001b[32m━━━━━━━━━━━━━━━━━━━━\u001b[0m\u001b[37m\u001b[0m \u001b[1m2s\u001b[0m 3ms/step - loss: 2428.0740 - mae: 24.9638 - val_loss: 2676.8137 - val_mae: 25.8746 - learning_rate: 1.0000e-04\n",
      "Epoch 40/100\n",
      "\u001b[1m467/467\u001b[0m \u001b[32m━━━━━━━━━━━━━━━━━━━━\u001b[0m\u001b[37m\u001b[0m \u001b[1m1s\u001b[0m 3ms/step - loss: 2501.4863 - mae: 25.2531 - val_loss: 2669.5278 - val_mae: 25.5418 - learning_rate: 1.0000e-04\n",
      "Epoch 41/100\n",
      "\u001b[1m467/467\u001b[0m \u001b[32m━━━━━━━━━━━━━━━━━━━━\u001b[0m\u001b[37m\u001b[0m \u001b[1m1s\u001b[0m 3ms/step - loss: 2576.6528 - mae: 25.7464 - val_loss: 2672.6499 - val_mae: 26.4575 - learning_rate: 1.0000e-04\n",
      "Epoch 42/100\n",
      "\u001b[1m467/467\u001b[0m \u001b[32m━━━━━━━━━━━━━━━━━━━━\u001b[0m\u001b[37m\u001b[0m \u001b[1m1s\u001b[0m 3ms/step - loss: 2524.0200 - mae: 25.6379 - val_loss: 2678.9954 - val_mae: 25.7395 - learning_rate: 1.0000e-04\n",
      "Epoch 43/100\n",
      "\u001b[1m467/467\u001b[0m \u001b[32m━━━━━━━━━━━━━━━━━━━━\u001b[0m\u001b[37m\u001b[0m \u001b[1m1s\u001b[0m 3ms/step - loss: 2406.6763 - mae: 24.5803 - val_loss: 2661.2573 - val_mae: 25.9883 - learning_rate: 1.0000e-04\n",
      "Epoch 44/100\n",
      "\u001b[1m467/467\u001b[0m \u001b[32m━━━━━━━━━━━━━━━━━━━━\u001b[0m\u001b[37m\u001b[0m \u001b[1m2s\u001b[0m 3ms/step - loss: 2454.2522 - mae: 25.0766 - val_loss: 2661.5740 - val_mae: 26.0067 - learning_rate: 1.0000e-04\n",
      "Epoch 45/100\n",
      "\u001b[1m467/467\u001b[0m \u001b[32m━━━━━━━━━━━━━━━━━━━━\u001b[0m\u001b[37m\u001b[0m \u001b[1m1s\u001b[0m 3ms/step - loss: 2470.8125 - mae: 25.1790 - val_loss: 2659.2297 - val_mae: 25.3276 - learning_rate: 1.0000e-04\n",
      "Epoch 46/100\n",
      "\u001b[1m467/467\u001b[0m \u001b[32m━━━━━━━━━━━━━━━━━━━━\u001b[0m\u001b[37m\u001b[0m \u001b[1m1s\u001b[0m 3ms/step - loss: 2617.3516 - mae: 25.7951 - val_loss: 2663.8865 - val_mae: 25.6022 - learning_rate: 1.0000e-04\n",
      "Epoch 47/100\n",
      "\u001b[1m467/467\u001b[0m \u001b[32m━━━━━━━━━━━━━━━━━━━━\u001b[0m\u001b[37m\u001b[0m \u001b[1m1s\u001b[0m 3ms/step - loss: 2511.2842 - mae: 25.3158 - val_loss: 2660.5251 - val_mae: 25.8319 - learning_rate: 1.0000e-04\n",
      "Epoch 48/100\n",
      "\u001b[1m467/467\u001b[0m \u001b[32m━━━━━━━━━━━━━━━━━━━━\u001b[0m\u001b[37m\u001b[0m \u001b[1m1s\u001b[0m 3ms/step - loss: 2495.8533 - mae: 25.1450 - val_loss: 2658.7417 - val_mae: 25.9589 - learning_rate: 1.0000e-04\n",
      "Epoch 49/100\n",
      "\u001b[1m467/467\u001b[0m \u001b[32m━━━━━━━━━━━━━━━━━━━━\u001b[0m\u001b[37m\u001b[0m \u001b[1m2s\u001b[0m 3ms/step - loss: 2510.3723 - mae: 25.6722 - val_loss: 2678.8140 - val_mae: 25.2907 - learning_rate: 1.0000e-04\n",
      "Epoch 50/100\n",
      "\u001b[1m467/467\u001b[0m \u001b[32m━━━━━━━━━━━━━━━━━━━━\u001b[0m\u001b[37m\u001b[0m \u001b[1m1s\u001b[0m 3ms/step - loss: 2590.5488 - mae: 25.5559 - val_loss: 2658.1301 - val_mae: 25.6425 - learning_rate: 1.0000e-04\n",
      "Epoch 51/100\n",
      "\u001b[1m467/467\u001b[0m \u001b[32m━━━━━━━━━━━━━━━━━━━━\u001b[0m\u001b[37m\u001b[0m \u001b[1m1s\u001b[0m 3ms/step - loss: 2375.9626 - mae: 24.1043 - val_loss: 2656.4365 - val_mae: 25.9609 - learning_rate: 1.0000e-04\n",
      "Epoch 52/100\n",
      "\u001b[1m467/467\u001b[0m \u001b[32m━━━━━━━━━━━━━━━━━━━━\u001b[0m\u001b[37m\u001b[0m \u001b[1m1s\u001b[0m 3ms/step - loss: 2391.0212 - mae: 24.4333 - val_loss: 2663.0698 - val_mae: 25.1432 - learning_rate: 1.0000e-04\n",
      "Epoch 53/100\n",
      "\u001b[1m467/467\u001b[0m \u001b[32m━━━━━━━━━━━━━━━━━━━━\u001b[0m\u001b[37m\u001b[0m \u001b[1m2s\u001b[0m 3ms/step - loss: 2468.8245 - mae: 24.4918 - val_loss: 2663.0911 - val_mae: 25.6869 - learning_rate: 1.0000e-04\n",
      "Epoch 54/100\n",
      "\u001b[1m467/467\u001b[0m \u001b[32m━━━━━━━━━━━━━━━━━━━━\u001b[0m\u001b[37m\u001b[0m \u001b[1m1s\u001b[0m 3ms/step - loss: 2480.5623 - mae: 25.1634 - val_loss: 2666.7927 - val_mae: 25.3546 - learning_rate: 1.0000e-04\n",
      "Epoch 55/100\n",
      "\u001b[1m467/467\u001b[0m \u001b[32m━━━━━━━━━━━━━━━━━━━━\u001b[0m\u001b[37m\u001b[0m \u001b[1m1s\u001b[0m 3ms/step - loss: 2394.7271 - mae: 24.4073 - val_loss: 2650.7659 - val_mae: 25.5369 - learning_rate: 1.0000e-04\n",
      "Epoch 56/100\n",
      "\u001b[1m467/467\u001b[0m \u001b[32m━━━━━━━━━━━━━━━━━━━━\u001b[0m\u001b[37m\u001b[0m \u001b[1m1s\u001b[0m 3ms/step - loss: 2533.2793 - mae: 25.4073 - val_loss: 2655.2771 - val_mae: 25.6553 - learning_rate: 1.0000e-04\n",
      "Epoch 57/100\n",
      "\u001b[1m467/467\u001b[0m \u001b[32m━━━━━━━━━━━━━━━━━━━━\u001b[0m\u001b[37m\u001b[0m \u001b[1m2s\u001b[0m 3ms/step - loss: 2421.0720 - mae: 24.4427 - val_loss: 2653.6721 - val_mae: 25.2123 - learning_rate: 1.0000e-04\n",
      "Epoch 58/100\n",
      "\u001b[1m467/467\u001b[0m \u001b[32m━━━━━━━━━━━━━━━━━━━━\u001b[0m\u001b[37m\u001b[0m \u001b[1m1s\u001b[0m 3ms/step - loss: 2372.2395 - mae: 23.8991 - val_loss: 2650.2700 - val_mae: 25.6253 - learning_rate: 1.0000e-04\n",
      "Epoch 59/100\n",
      "\u001b[1m467/467\u001b[0m \u001b[32m━━━━━━━━━━━━━━━━━━━━\u001b[0m\u001b[37m\u001b[0m \u001b[1m2s\u001b[0m 3ms/step - loss: 2372.6138 - mae: 24.1477 - val_loss: 2655.9702 - val_mae: 25.6242 - learning_rate: 1.0000e-04\n",
      "Epoch 60/100\n",
      "\u001b[1m467/467\u001b[0m \u001b[32m━━━━━━━━━━━━━━━━━━━━\u001b[0m\u001b[37m\u001b[0m \u001b[1m1s\u001b[0m 3ms/step - loss: 2586.1580 - mae: 25.5753 - val_loss: 2659.7031 - val_mae: 25.3317 - learning_rate: 1.0000e-04\n",
      "Epoch 61/100\n",
      "\u001b[1m467/467\u001b[0m \u001b[32m━━━━━━━━━━━━━━━━━━━━\u001b[0m\u001b[37m\u001b[0m \u001b[1m1s\u001b[0m 3ms/step - loss: 2464.4233 - mae: 25.1250 - val_loss: 2665.3044 - val_mae: 25.4956 - learning_rate: 1.0000e-04\n",
      "Epoch 62/100\n",
      "\u001b[1m467/467\u001b[0m \u001b[32m━━━━━━━━━━━━━━━━━━━━\u001b[0m\u001b[37m\u001b[0m \u001b[1m2s\u001b[0m 3ms/step - loss: 2499.5249 - mae: 25.1814 - val_loss: 2649.3569 - val_mae: 25.0059 - learning_rate: 1.0000e-04\n",
      "Epoch 63/100\n",
      "\u001b[1m467/467\u001b[0m \u001b[32m━━━━━━━━━━━━━━━━━━━━\u001b[0m\u001b[37m\u001b[0m \u001b[1m1s\u001b[0m 3ms/step - loss: 2388.6091 - mae: 24.0255 - val_loss: 2646.8125 - val_mae: 25.4066 - learning_rate: 1.0000e-04\n",
      "Epoch 64/100\n",
      "\u001b[1m467/467\u001b[0m \u001b[32m━━━━━━━━━━━━━━━━━━━━\u001b[0m\u001b[37m\u001b[0m \u001b[1m2s\u001b[0m 3ms/step - loss: 2345.8215 - mae: 23.9880 - val_loss: 2649.9524 - val_mae: 25.4061 - learning_rate: 1.0000e-04\n",
      "Epoch 65/100\n",
      "\u001b[1m467/467\u001b[0m \u001b[32m━━━━━━━━━━━━━━━━━━━━\u001b[0m\u001b[37m\u001b[0m \u001b[1m1s\u001b[0m 3ms/step - loss: 2376.9912 - mae: 24.5262 - val_loss: 2651.6667 - val_mae: 25.4681 - learning_rate: 1.0000e-04\n",
      "Epoch 66/100\n",
      "\u001b[1m467/467\u001b[0m \u001b[32m━━━━━━━━━━━━━━━━━━━━\u001b[0m\u001b[37m\u001b[0m \u001b[1m2s\u001b[0m 3ms/step - loss: 2458.7380 - mae: 24.8927 - val_loss: 2652.5071 - val_mae: 25.4085 - learning_rate: 1.0000e-04\n",
      "Epoch 67/100\n",
      "\u001b[1m467/467\u001b[0m \u001b[32m━━━━━━━━━━━━━━━━━━━━\u001b[0m\u001b[37m\u001b[0m \u001b[1m2s\u001b[0m 3ms/step - loss: 2445.4070 - mae: 24.9767 - val_loss: 2644.8269 - val_mae: 25.3888 - learning_rate: 1.0000e-04\n",
      "Epoch 68/100\n",
      "\u001b[1m467/467\u001b[0m \u001b[32m━━━━━━━━━━━━━━━━━━━━\u001b[0m\u001b[37m\u001b[0m \u001b[1m1s\u001b[0m 3ms/step - loss: 2385.7578 - mae: 24.4193 - val_loss: 2650.2053 - val_mae: 25.3261 - learning_rate: 1.0000e-04\n",
      "Epoch 69/100\n",
      "\u001b[1m467/467\u001b[0m \u001b[32m━━━━━━━━━━━━━━━━━━━━\u001b[0m\u001b[37m\u001b[0m \u001b[1m2s\u001b[0m 3ms/step - loss: 2338.4102 - mae: 24.0011 - val_loss: 2660.8687 - val_mae: 25.3461 - learning_rate: 1.0000e-04\n",
      "Epoch 70/100\n",
      "\u001b[1m467/467\u001b[0m \u001b[32m━━━━━━━━━━━━━━━━━━━━\u001b[0m\u001b[37m\u001b[0m \u001b[1m2s\u001b[0m 3ms/step - loss: 2470.3557 - mae: 24.8633 - val_loss: 2640.9011 - val_mae: 25.4286 - learning_rate: 1.0000e-04\n",
      "Epoch 71/100\n",
      "\u001b[1m467/467\u001b[0m \u001b[32m━━━━━━━━━━━━━━━━━━━━\u001b[0m\u001b[37m\u001b[0m \u001b[1m2s\u001b[0m 3ms/step - loss: 2552.8367 - mae: 25.2367 - val_loss: 2639.0278 - val_mae: 25.2382 - learning_rate: 1.0000e-04\n",
      "Epoch 72/100\n",
      "\u001b[1m467/467\u001b[0m \u001b[32m━━━━━━━━━━━━━━━━━━━━\u001b[0m\u001b[37m\u001b[0m \u001b[1m2s\u001b[0m 3ms/step - loss: 2314.9719 - mae: 23.8712 - val_loss: 2640.9722 - val_mae: 25.2010 - learning_rate: 1.0000e-04\n",
      "Epoch 73/100\n",
      "\u001b[1m467/467\u001b[0m \u001b[32m━━━━━━━━━━━━━━━━━━━━\u001b[0m\u001b[37m\u001b[0m \u001b[1m2s\u001b[0m 3ms/step - loss: 2414.1338 - mae: 24.2419 - val_loss: 2639.4907 - val_mae: 25.1840 - learning_rate: 1.0000e-04\n",
      "Epoch 74/100\n",
      "\u001b[1m467/467\u001b[0m \u001b[32m━━━━━━━━━━━━━━━━━━━━\u001b[0m\u001b[37m\u001b[0m \u001b[1m1s\u001b[0m 3ms/step - loss: 2514.8728 - mae: 25.0067 - val_loss: 2639.5239 - val_mae: 24.9527 - learning_rate: 1.0000e-04\n",
      "Epoch 75/100\n",
      "\u001b[1m467/467\u001b[0m \u001b[32m━━━━━━━━━━━━━━━━━━━━\u001b[0m\u001b[37m\u001b[0m \u001b[1m1s\u001b[0m 3ms/step - loss: 2520.3054 - mae: 25.1691 - val_loss: 2647.0029 - val_mae: 25.0412 - learning_rate: 1.0000e-04\n",
      "Epoch 76/100\n",
      "\u001b[1m467/467\u001b[0m \u001b[32m━━━━━━━━━━━━━━━━━━━━\u001b[0m\u001b[37m\u001b[0m \u001b[1m1s\u001b[0m 3ms/step - loss: 2480.8579 - mae: 25.0114 - val_loss: 2649.0339 - val_mae: 25.1243 - learning_rate: 1.0000e-04\n",
      "Epoch 77/100\n",
      "\u001b[1m467/467\u001b[0m \u001b[32m━━━━━━━━━━━━━━━━━━━━\u001b[0m\u001b[37m\u001b[0m \u001b[1m2s\u001b[0m 3ms/step - loss: 2457.6733 - mae: 24.7611 - val_loss: 2646.5171 - val_mae: 26.0698 - learning_rate: 1.0000e-04\n",
      "Epoch 78/100\n",
      "\u001b[1m467/467\u001b[0m \u001b[32m━━━━━━━━━━━━━━━━━━━━\u001b[0m\u001b[37m\u001b[0m \u001b[1m1s\u001b[0m 3ms/step - loss: 2389.7051 - mae: 24.5148 - val_loss: 2646.6094 - val_mae: 25.3489 - learning_rate: 1.0000e-04\n",
      "Epoch 79/100\n",
      "\u001b[1m467/467\u001b[0m \u001b[32m━━━━━━━━━━━━━━━━━━━━\u001b[0m\u001b[37m\u001b[0m \u001b[1m1s\u001b[0m 3ms/step - loss: 2419.6191 - mae: 24.5664 - val_loss: 2633.0710 - val_mae: 25.0291 - learning_rate: 1.0000e-04\n",
      "Epoch 80/100\n",
      "\u001b[1m467/467\u001b[0m \u001b[32m━━━━━━━━━━━━━━━━━━━━\u001b[0m\u001b[37m\u001b[0m \u001b[1m1s\u001b[0m 3ms/step - loss: 2385.4353 - mae: 24.1180 - val_loss: 2631.1929 - val_mae: 25.4360 - learning_rate: 1.0000e-04\n",
      "Epoch 81/100\n",
      "\u001b[1m467/467\u001b[0m \u001b[32m━━━━━━━━━━━━━━━━━━━━\u001b[0m\u001b[37m\u001b[0m \u001b[1m2s\u001b[0m 3ms/step - loss: 2394.2522 - mae: 24.1149 - val_loss: 2639.9221 - val_mae: 25.2216 - learning_rate: 1.0000e-04\n",
      "Epoch 82/100\n",
      "\u001b[1m467/467\u001b[0m \u001b[32m━━━━━━━━━━━━━━━━━━━━\u001b[0m\u001b[37m\u001b[0m \u001b[1m1s\u001b[0m 3ms/step - loss: 2370.7490 - mae: 24.0676 - val_loss: 2641.5488 - val_mae: 24.7040 - learning_rate: 1.0000e-04\n",
      "Epoch 83/100\n",
      "\u001b[1m467/467\u001b[0m \u001b[32m━━━━━━━━━━━━━━━━━━━━\u001b[0m\u001b[37m\u001b[0m \u001b[1m1s\u001b[0m 3ms/step - loss: 2392.7971 - mae: 24.1136 - val_loss: 2628.4844 - val_mae: 25.5142 - learning_rate: 1.0000e-04\n",
      "Epoch 84/100\n",
      "\u001b[1m467/467\u001b[0m \u001b[32m━━━━━━━━━━━━━━━━━━━━\u001b[0m\u001b[37m\u001b[0m \u001b[1m2s\u001b[0m 3ms/step - loss: 2530.2627 - mae: 25.4351 - val_loss: 2633.6455 - val_mae: 25.6073 - learning_rate: 1.0000e-04\n",
      "Epoch 85/100\n",
      "\u001b[1m467/467\u001b[0m \u001b[32m━━━━━━━━━━━━━━━━━━━━\u001b[0m\u001b[37m\u001b[0m \u001b[1m1s\u001b[0m 3ms/step - loss: 2413.1316 - mae: 24.3914 - val_loss: 2644.5557 - val_mae: 24.9894 - learning_rate: 1.0000e-04\n",
      "Epoch 86/100\n",
      "\u001b[1m467/467\u001b[0m \u001b[32m━━━━━━━━━━━━━━━━━━━━\u001b[0m\u001b[37m\u001b[0m \u001b[1m1s\u001b[0m 3ms/step - loss: 2419.2981 - mae: 24.1395 - val_loss: 2630.0955 - val_mae: 25.1899 - learning_rate: 1.0000e-04\n",
      "Epoch 87/100\n",
      "\u001b[1m467/467\u001b[0m \u001b[32m━━━━━━━━━━━━━━━━━━━━\u001b[0m\u001b[37m\u001b[0m \u001b[1m1s\u001b[0m 3ms/step - loss: 2419.8066 - mae: 24.4234 - val_loss: 2654.6042 - val_mae: 25.5389 - learning_rate: 1.0000e-04\n",
      "Epoch 88/100\n",
      "\u001b[1m467/467\u001b[0m \u001b[32m━━━━━━━━━━━━━━━━━━━━\u001b[0m\u001b[37m\u001b[0m \u001b[1m2s\u001b[0m 3ms/step - loss: 2399.8459 - mae: 24.7122 - val_loss: 2626.7017 - val_mae: 25.2697 - learning_rate: 1.0000e-04\n",
      "Epoch 89/100\n",
      "\u001b[1m467/467\u001b[0m \u001b[32m━━━━━━━━━━━━━━━━━━━━\u001b[0m\u001b[37m\u001b[0m \u001b[1m1s\u001b[0m 3ms/step - loss: 2495.9604 - mae: 25.0700 - val_loss: 2627.4902 - val_mae: 24.8348 - learning_rate: 1.0000e-04\n",
      "Epoch 90/100\n",
      "\u001b[1m467/467\u001b[0m \u001b[32m━━━━━━━━━━━━━━━━━━━━\u001b[0m\u001b[37m\u001b[0m \u001b[1m2s\u001b[0m 3ms/step - loss: 2437.0615 - mae: 24.4117 - val_loss: 2638.0105 - val_mae: 24.6612 - learning_rate: 1.0000e-04\n",
      "Epoch 91/100\n",
      "\u001b[1m467/467\u001b[0m \u001b[32m━━━━━━━━━━━━━━━━━━━━\u001b[0m\u001b[37m\u001b[0m \u001b[1m2s\u001b[0m 3ms/step - loss: 2369.5447 - mae: 23.8789 - val_loss: 2625.4968 - val_mae: 25.3877 - learning_rate: 1.0000e-04\n",
      "Epoch 92/100\n",
      "\u001b[1m467/467\u001b[0m \u001b[32m━━━━━━━━━━━━━━━━━━━━\u001b[0m\u001b[37m\u001b[0m \u001b[1m2s\u001b[0m 4ms/step - loss: 2393.9294 - mae: 24.5019 - val_loss: 2624.6511 - val_mae: 25.5548 - learning_rate: 1.0000e-04\n",
      "Epoch 93/100\n",
      "\u001b[1m467/467\u001b[0m \u001b[32m━━━━━━━━━━━━━━━━━━━━\u001b[0m\u001b[37m\u001b[0m \u001b[1m1s\u001b[0m 3ms/step - loss: 2296.3923 - mae: 23.8944 - val_loss: 2639.2104 - val_mae: 24.8787 - learning_rate: 1.0000e-04\n",
      "Epoch 94/100\n",
      "\u001b[1m467/467\u001b[0m \u001b[32m━━━━━━━━━━━━━━━━━━━━\u001b[0m\u001b[37m\u001b[0m \u001b[1m2s\u001b[0m 3ms/step - loss: 2381.8708 - mae: 23.9498 - val_loss: 2649.1919 - val_mae: 24.7769 - learning_rate: 1.0000e-04\n",
      "Epoch 95/100\n",
      "\u001b[1m467/467\u001b[0m \u001b[32m━━━━━━━━━━━━━━━━━━━━\u001b[0m\u001b[37m\u001b[0m \u001b[1m1s\u001b[0m 3ms/step - loss: 2452.6685 - mae: 24.1880 - val_loss: 2629.4719 - val_mae: 24.4467 - learning_rate: 1.0000e-04\n",
      "Epoch 96/100\n",
      "\u001b[1m467/467\u001b[0m \u001b[32m━━━━━━━━━━━━━━━━━━━━\u001b[0m\u001b[37m\u001b[0m \u001b[1m1s\u001b[0m 3ms/step - loss: 2485.8169 - mae: 24.3096 - val_loss: 2626.7236 - val_mae: 25.0583 - learning_rate: 1.0000e-04\n",
      "Epoch 97/100\n",
      "\u001b[1m467/467\u001b[0m \u001b[32m━━━━━━━━━━━━━━━━━━━━\u001b[0m\u001b[37m\u001b[0m \u001b[1m2s\u001b[0m 3ms/step - loss: 2541.9832 - mae: 24.8707 - val_loss: 2647.7998 - val_mae: 25.1143 - learning_rate: 1.0000e-04\n",
      "Epoch 98/100\n",
      "\u001b[1m467/467\u001b[0m \u001b[32m━━━━━━━━━━━━━━━━━━━━\u001b[0m\u001b[37m\u001b[0m \u001b[1m1s\u001b[0m 3ms/step - loss: 2429.8196 - mae: 24.5308 - val_loss: 2626.0842 - val_mae: 25.1541 - learning_rate: 1.0000e-04\n",
      "Epoch 99/100\n",
      "\u001b[1m467/467\u001b[0m \u001b[32m━━━━━━━━━━━━━━━━━━━━\u001b[0m\u001b[37m\u001b[0m \u001b[1m1s\u001b[0m 3ms/step - loss: 2429.9480 - mae: 24.5921 - val_loss: 2624.4805 - val_mae: 24.6463 - learning_rate: 1.0000e-04\n",
      "Epoch 100/100\n",
      "\u001b[1m467/467\u001b[0m \u001b[32m━━━━━━━━━━━━━━━━━━━━\u001b[0m\u001b[37m\u001b[0m \u001b[1m1s\u001b[0m 3ms/step - loss: 2340.0869 - mae: 23.7463 - val_loss: 2633.0381 - val_mae: 25.2774 - learning_rate: 1.0000e-04\n",
      "\u001b[1m59/59\u001b[0m \u001b[32m━━━━━━━━━━━━━━━━━━━━\u001b[0m\u001b[37m\u001b[0m \u001b[1m0s\u001b[0m 2ms/step - loss: 2501.0005 - mae: 24.7609\n",
      "\u001b[1m59/59\u001b[0m \u001b[32m━━━━━━━━━━━━━━━━━━━━\u001b[0m\u001b[37m\u001b[0m \u001b[1m0s\u001b[0m 2ms/step\n",
      "Loss: 2633.0380859375\n",
      "Mean Absolute Error (MAE): 25.277402877807617\n",
      "Mean Squared Error (MSE): 2633.0381028750817\n",
      "Root Mean Squared Error (RMSE): 51.313137721981896\n"
     ]
    }
   ],
   "source": [
    "from tensorflow.keras.models import Sequential\n",
    "from tensorflow.keras.layers import Dense, Dropout\n",
    "from tensorflow.keras.callbacks import EarlyStopping, ReduceLROnPlateau\n",
    "\n",
    "from tensorflow.keras.layers import LeakyReLU\n",
    "from sklearn.metrics import mean_squared_error\n",
    "\n",
    "model = Sequential()\n",
    "\n",
    "model.add(Dense(units=256, input_shape=(X_train_scaled.shape[1],)))\n",
    "model.add(LeakyReLU(alpha=0.1))\n",
    "model.add(Dropout(0.1))\n",
    "\n",
    "model.add(Dense(units=128))\n",
    "model.add(LeakyReLU(alpha=0.1))\n",
    "model.add(Dropout(0.1))\n",
    "\n",
    "model.add(Dense(units=64))\n",
    "model.add(LeakyReLU(alpha=0.1))\n",
    "model.add(Dropout(0.1))\n",
    "\n",
    "model.add(Dense(units=32))\n",
    "model.add(LeakyReLU(alpha=0.1))\n",
    "\n",
    "model.add(Dense(units=1, activation='linear'))\n",
    "\n",
    "model.compile(optimizer='adam', loss='mean_squared_error', metrics=['mae'])\n",
    "\n",
    "# Define callbacks\n",
    "early_stopping = EarlyStopping(patience=10, min_delta=0.001)\n",
    "reduce_lr = ReduceLROnPlateau(monitor='val_mae', factor=0.5, patience=5, min_lr=0.0001)\n",
    "\n",
    "# Train the ANN\n",
    "history = model.fit(X_train_scaled, y_train, validation_data=(X_test_scaled, y_test),\n",
    "                    epochs=100, batch_size=16, callbacks=[early_stopping, reduce_lr])\n",
    "\n",
    "# Evaluate the model\n",
    "loss_ann, mae_ann = model.evaluate(X_test_scaled, y_test)\n",
    "mse_ann = mean_squared_error(y_test, model.predict(X_test_scaled))\n",
    "rmse_ann = mse_ann ** 0.5\n",
    "\n",
    "print(f\"Loss: {loss_ann}\")\n",
    "print(f\"Mean Absolute Error (MAE): {mae_ann}\")\n",
    "print(f\"Mean Squared Error (MSE): {mse_ann}\")\n",
    "print(f\"Root Mean Squared Error (RMSE): {rmse_ann}\")\n"
   ]
  },
  {
   "cell_type": "markdown",
   "metadata": {},
   "source": [
    "### Decision Tree Regression"
   ]
  },
  {
   "cell_type": "code",
   "execution_count": 34,
   "metadata": {},
   "outputs": [
    {
     "name": "stdout",
     "output_type": "stream",
     "text": [
      "Decision Tree Loss (MSE): 4665.656747052519\n",
      "Decision Tree Mean Absolute Error (MAE): 23.501554126473742\n",
      "Decision Tree Mean Squared Error (MSE): 4665.656747052519\n",
      "Decision Tree Root Mean Squared Error (RMSE): 68.30561285174534\n"
     ]
    }
   ],
   "source": [
    "from sklearn.tree import DecisionTreeRegressor\n",
    "from sklearn.metrics import mean_squared_error, mean_absolute_error\n",
    "\n",
    "# Initialize the Decision Tree Regressor\n",
    "dt_model = DecisionTreeRegressor(random_state=42)\n",
    "\n",
    "# Train the model\n",
    "dt_model.fit(X_train_scaled, y_train)\n",
    "\n",
    "# Make predictions\n",
    "y_pred = dt_model.predict(X_test_scaled)\n",
    "\n",
    "# Calculate loss (mean squared error) and mean absolute error\n",
    "dt_loss = mean_squared_error(y_test, y_pred)\n",
    "dt_mae = mean_absolute_error(y_test, y_pred)\n",
    "dt_mse = mean_squared_error(y_test, y_pred)\n",
    "dt_rmse = dt_mse ** 0.5\n",
    "\n",
    "print(f\"Decision Tree Loss (MSE): {dt_loss}\")\n",
    "print(f\"Decision Tree Mean Absolute Error (MAE): {dt_mae}\")\n",
    "print(f\"Decision Tree Mean Squared Error (MSE): {dt_mse}\")\n",
    "print(f\"Decision Tree Root Mean Squared Error (RMSE): {dt_rmse}\")"
   ]
  },
  {
   "cell_type": "markdown",
   "metadata": {},
   "source": [
    "### Random Forest Regression"
   ]
  },
  {
   "cell_type": "code",
   "execution_count": 35,
   "metadata": {},
   "outputs": [
    {
     "name": "stdout",
     "output_type": "stream",
     "text": [
      "Random Forest Mean Squared Error (MSE): 2538.1523586913318\n",
      "Random Forest Root Mean Squared Error (RMSE): 50.38007898655312\n",
      "Random Forest Loss (MSE): 2538.1523586913318\n",
      "Random Forest Mean Absolute Error (MAE): 24.46900404667292\n"
     ]
    }
   ],
   "source": [
    "from sklearn.ensemble import RandomForestRegressor\n",
    "\n",
    "# Initialize the Random Forest Regressor\n",
    "rf_model = RandomForestRegressor(random_state=42, n_estimators=100)\n",
    "\n",
    "# Train the model\n",
    "rf_model.fit(X_train_scaled, y_train)\n",
    "\n",
    "# Make predictions\n",
    "y_pred_rf = rf_model.predict(X_test_scaled)\n",
    "\n",
    "# Calculate loss (mean squared error) and mean absolute error\n",
    "rf_loss = mean_squared_error(y_test, y_pred_rf)\n",
    "rf_mae = mean_absolute_error(y_test, y_pred_rf)\n",
    "rf_mse = mean_squared_error(y_test, y_pred_rf)\n",
    "rf_rmse = rf_mse ** 0.5\n",
    "\n",
    "print(f\"Random Forest Mean Squared Error (MSE): {rf_mse}\")\n",
    "print(f\"Random Forest Root Mean Squared Error (RMSE): {rf_rmse}\")\n",
    "\n",
    "print(f\"Random Forest Loss (MSE): {rf_loss}\")\n",
    "print(f\"Random Forest Mean Absolute Error (MAE): {rf_mae}\")"
   ]
  },
  {
   "cell_type": "markdown",
   "metadata": {},
   "source": [
    "### Visualization Graphs"
   ]
  },
  {
   "cell_type": "markdown",
   "metadata": {},
   "source": [
    "#### MAE"
   ]
  },
  {
   "cell_type": "code",
   "execution_count": 36,
   "metadata": {},
   "outputs": [
    {
     "data": {
      "image/png": "[encoded data removed]",
      "text/plain": [
       "<Figure size 800x500 with 1 Axes>"
      ]
     },
     "metadata": {},
     "output_type": "display_data"
    }
   ],
   "source": [
    "import matplotlib.pyplot as plt\n",
    "\n",
    "# Define the MAE values and corresponding model names\n",
    "mae_values = [mae_ann, dt_mae, rf_mae]\n",
    "model_names = ['ANN', 'Decision Tree', 'Random Forest']\n",
    "\n",
    "# Create the bar chart\n",
    "plt.figure(figsize=(8, 5))\n",
    "plt.bar(model_names, mae_values, color=['blue', 'green', 'orange'])\n",
    "plt.title('Mean Absolute Error (MAE) of Models')\n",
    "plt.ylabel('MAE')\n",
    "plt.xlabel('Models')\n",
    "plt.show()"
   ]
  },
  {
   "cell_type": "markdown",
   "metadata": {},
   "source": [
    "#### Loss"
   ]
  },
  {
   "cell_type": "code",
   "execution_count": 37,
   "metadata": {},
   "outputs": [
    {
     "data": {
      "image/png": "[encoded data removed]",
      "text/plain": [
       "<Figure size 800x500 with 1 Axes>"
      ]
     },
     "metadata": {},
     "output_type": "display_data"
    }
   ],
   "source": [
    "# Define the loss values and corresponding model names\n",
    "loss_values = [loss_ann, dt_loss, rf_loss]\n",
    "model_names = ['ANN', 'Decision Tree', 'Random Forest']\n",
    "colors = ['blue', 'green', 'orange']\n",
    "\n",
    "# Create the bar chart\n",
    "plt.figure(figsize=(8, 5))\n",
    "plt.bar(model_names, loss_values, color=colors)\n",
    "plt.title('Loss Values of Models')\n",
    "plt.ylabel('Loss')\n",
    "plt.xlabel('Models')\n",
    "plt.show()"
   ]
  },
  {
   "cell_type": "markdown",
   "metadata": {},
   "source": [
    "#### MSE"
   ]
  },
  {
   "cell_type": "code",
   "execution_count": 38,
   "metadata": {},
   "outputs": [
    {
     "data": {
      "image/png": "[encoded data removed]",
      "text/plain": [
       "<Figure size 800x500 with 1 Axes>"
      ]
     },
     "metadata": {},
     "output_type": "display_data"
    }
   ],
   "source": [
    "# Define the MSE values and corresponding model names\n",
    "mse_values = [mse_ann, dt_mse, rf_mse]\n",
    "model_names = ['ANN', 'Decision Tree', 'Random Forest']\n",
    "colors = ['blue', 'green', 'orange']\n",
    "\n",
    "# Create the bar chart\n",
    "plt.figure(figsize=(8, 5))\n",
    "plt.bar(model_names, mse_values, color=colors)\n",
    "plt.title('Mean Squared Error (MSE) of Models')\n",
    "plt.ylabel('MSE')\n",
    "plt.xlabel('Models')\n",
    "plt.show()"
   ]
  },
  {
   "cell_type": "markdown",
   "metadata": {},
   "source": [
    "#### RMSE"
   ]
  },
  {
   "cell_type": "code",
   "execution_count": 39,
   "metadata": {},
   "outputs": [
    {
     "data": {
      "image/png": "[encoded data removed]",
      "text/plain": [
       "<Figure size 800x500 with 1 Axes>"
      ]
     },
     "metadata": {},
     "output_type": "display_data"
    }
   ],
   "source": [
    "# Define the RMSE values and corresponding model names\n",
    "rmse_values = [rmse_ann, dt_rmse, rf_rmse]\n",
    "model_names = ['ANN', 'Decision Tree', 'Random Forest']\n",
    "colors = ['blue', 'green', 'orange']\n",
    "\n",
    "# Create the bar chart\n",
    "plt.figure(figsize=(8, 5))\n",
    "plt.bar(model_names, rmse_values, color=colors)\n",
    "plt.title('Root Mean Squared Error (RMSE) of Models')\n",
    "plt.ylabel('RMSE')\n",
    "plt.xlabel('Models')\n",
    "plt.show()"
   ]
  },
  {
   "cell_type": "markdown",
   "metadata": {},
   "source": [
    "### Loss Plot"
   ]
  },
  {
   "cell_type": "code",
   "execution_count": 40,
   "metadata": {},
   "outputs": [
    {
     "data": {
      "image/png": "[encoded data removed]",
      "text/plain": [
       "<Figure size 800x500 with 1 Axes>"
      ]
     },
     "metadata": {},
     "output_type": "display_data"
    }
   ],
   "source": [
    "# Plot the training and validation loss\n",
    "plt.figure(figsize=(8, 5))\n",
    "plt.plot(history.history['loss'], label='Training Loss')\n",
    "plt.plot(history.history['val_loss'], label='Validation Loss')\n",
    "plt.title('ANN Loss During Training')\n",
    "plt.xlabel('Epochs')\n",
    "plt.ylabel('Loss')\n",
    "plt.legend()\n",
    "plt.show()"
   ]
  },
  {
   "cell_type": "code",
   "execution_count": null,
   "metadata": {
    "vscode": {
     "languageId": "tex"
    }
   },
   "outputs": [],
   "source": [
    "To determine which model performed well, we can compare their evaluation metrics such as **Mean Absolute Error (MAE)**, **Mean Squared Error (MSE)**, and **Root Mean Squared Error (RMSE)**. Lower values for these metrics indicate better performance.\n",
    "\n",
    "### Model Performance Summary:\n",
    "- **ANN (Artificial Neural Network):**\n",
    "    - MAE: 25.28\n",
    "    - MSE: 2633.04\n",
    "    - RMSE: 51.31\n",
    "\n",
    "- **Decision Tree:**\n",
    "    - MAE: 23.50\n",
    "    - MSE: 4665.66\n",
    "    - RMSE: 68.31\n",
    "\n",
    "- **Random Forest:**\n",
    "    - MAE: 24.47\n",
    "    - MSE: 2538.15\n",
    "    - RMSE: 50.38\n",
    "\n",
    "### Best Performing Model:\n",
    "The **Random Forest Regressor** performed the best overall because:\n",
    "1. It has the **lowest MSE (2538.15)** and **lowest RMSE (50.38)**, indicating better prediction accuracy.\n",
    "2. Although its MAE (24.47) is slightly higher than the Decision Tree's MAE (23.50), the Random Forest's lower MSE and RMSE make it more reliable for minimizing large errors.\n",
    "\n",
    "### Why Random Forest Performed Well:\n",
    "- Random Forest is an ensemble method that combines multiple decision trees, reducing overfitting and improving generalization.\n",
    "- It captures complex relationships in the data better than a single Decision Tree.\n",
    "- It is robust to noise and missing data, which might be present in the dataset."
   ]
  }
 ],
 "metadata": {
  "kernelspec": {
   "display_name": ".venv",
   "language": "python",
   "name": "python3"
  },
  "language_info": {
   "codemirror_mode": {
    "name": "ipython",
    "version": 3
   },
   "file_extension": ".py",
   "mimetype": "text/x-python",
   "name": "python",
   "nbconvert_exporter": "python",
   "pygments_lexer": "ipython3",
   "version": "3.11.4"
  }
 },
 "nbformat": 4,
 "nbformat_minor": 2
}
